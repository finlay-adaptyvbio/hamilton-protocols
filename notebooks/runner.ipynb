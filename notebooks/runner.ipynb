{
 "cells": [
  {
   "cell_type": "code",
   "execution_count": null,
   "id": "5e594c2e",
   "metadata": {},
   "outputs": [],
   "source": [
    "from hamilton_protocols.protocols.bli import max_plate_protocol, MaxPlateProtocolParams\n",
    "\n",
    "protocol = max_plate_protocol(\n",
    "    MaxPlateProtocolParams(\n",
    "        plates=1,\n",
    "        probe_columns=2,\n",
    "        probe_rows=8,\n",
    "        well_volume=250.0,\n",
    "    ),\n",
    "    simulate=True,\n",
    ")\n",
    "\n",
    "await protocol.run()"
   ]
  }
 ],
 "metadata": {
  "kernelspec": {
   "display_name": ".venv",
   "language": "python",
   "name": "python3"
  },
  "language_info": {
   "codemirror_mode": {
    "name": "ipython",
    "version": 3
   },
   "file_extension": ".py",
   "mimetype": "text/x-python",
   "name": "python",
   "nbconvert_exporter": "python",
   "pygments_lexer": "ipython3",
   "version": "3.13.3"
  }
 },
 "nbformat": 4,
 "nbformat_minor": 5
}
